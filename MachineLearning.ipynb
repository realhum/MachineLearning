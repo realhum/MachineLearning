{
 "cells": [
  {
   "cell_type": "code",
   "execution_count": 1,
   "metadata": {},
   "outputs": [],
   "source": [
    "import pandas as pd\n",
    "import re \n",
    "import codecs\n",
    "import numpy as np"
   ]
  },
  {
   "cell_type": "code",
   "execution_count": 2,
   "metadata": {},
   "outputs": [],
   "source": [
    "file_obj = codecs.open('news_train.txt', 'r', \"utf-8\")"
   ]
  },
  {
   "cell_type": "code",
   "execution_count": 3,
   "metadata": {},
   "outputs": [],
   "source": [
    "strings = []\n",
    "for line in file_obj:\n",
    "    strings.append(line.strip().lower())"
   ]
  },
  {
   "cell_type": "code",
   "execution_count": 6,
   "metadata": {},
   "outputs": [],
   "source": [
    "type_list = []\n",
    "text_list = []\n",
    "for i in range(len(strings)):\n",
    "    temp = strings[i].split(\"\\t\")\n",
    "    text_list.append(temp[2])\n",
    "    type_list.append(temp[0])"
   ]
  },
  {
   "cell_type": "code",
   "execution_count": 8,
   "metadata": {},
   "outputs": [],
   "source": [
    "words = []\n",
    "for i in range(len(text_list)):\n",
    "    words.append(re.split(u'[^а-я]', text_list[i]))"
   ]
  },
  {
   "cell_type": "code",
   "execution_count": 9,
   "metadata": {},
   "outputs": [],
   "source": [
    "found = True\n",
    "while(found):\n",
    "    c = 0\n",
    "    found = False\n",
    "    for i in words:\n",
    "        for j in i:\n",
    "            if(j == ''):\n",
    "                found = True\n",
    "                words[c].remove('')\n",
    "        c = c + 1"
   ]
  },
  {
   "cell_type": "code",
   "execution_count": 10,
   "metadata": {},
   "outputs": [],
   "source": [
    "type_dict = dict()\n",
    "c = 0\n",
    "for i in type_list:\n",
    "    if(not(i in type_dict)):\n",
    "        type_dict[i] = c\n",
    "        c += 1\n",
    "type_arr = []\n",
    "c = 0\n",
    "for i in type_list:\n",
    "    if(not(i in type_dict)):\n",
    "        type_arr.append\n",
    "        c += 1"
   ]
  },
  {
   "cell_type": "code",
   "execution_count": 11,
   "metadata": {},
   "outputs": [],
   "source": [
    "words_dict = dict()\n",
    "c = 0\n",
    "for i in words:\n",
    "    index_type = type_dict[type_list[c]]\n",
    "    for j in i:\n",
    "        if(not(j in words_dict) and (len(j)>=3)):\n",
    "            words_dict[j] = np.zeros(10)\n",
    "            words_dict[j][index_type] += 1\n",
    "        elif(len(j)>=3):\n",
    "            words_dict[j][index_type] +=1\n",
    "    c += 1"
   ]
  },
  {
   "cell_type": "code",
   "execution_count": 13,
   "metadata": {},
   "outputs": [
    {
     "name": "stdout",
     "output_type": "stream",
     "text": [
      "[0.00734795 0.08614063 0.12604567 0.0942799  0.14582862 0.04408772\n",
      " 0.29165725 0.17171603 0.01424373 0.0186525 ]\n",
      "1.0\n"
     ]
    }
   ],
   "source": [
    "for i in words:\n",
    "    for j in i:\n",
    "        sum = 0.0\n",
    "        if(j in words_dict):\n",
    "            for c in words_dict[j]:\n",
    "                sum = sum + c\n",
    "            words_dict[j] = np.true_divide(words_dict[j], sum)\n"
   ]
  },
  {
   "cell_type": "code",
   "execution_count": 14,
   "metadata": {},
   "outputs": [],
   "source": [
    "count = 0\n",
    "c = 0\n",
    "for i in words:\n",
    "    temp = np.zeros(10)\n",
    "    for j in i:\n",
    "        if(j in words_dict):\n",
    "            temp = temp + words_dict[j]\n",
    "    for type_art, index in type_dict.items():\n",
    "        if (index == np.argmax(temp)):\n",
    "            search = type_art\n",
    "    if(search == type_list[c]):\n",
    "        count += 1\n",
    "    c += 1"
   ]
  },
  {
   "cell_type": "code",
   "execution_count": 16,
   "metadata": {},
   "outputs": [],
   "source": [
    "file_test = codecs.open('news_test.txt', 'r', \"utf-8\")"
   ]
  },
  {
   "cell_type": "code",
   "execution_count": 17,
   "metadata": {},
   "outputs": [],
   "source": [
    "strings = []\n",
    "for line in file_test:\n",
    "    strings.append(line.strip().lower())"
   ]
  },
  {
   "cell_type": "code",
   "execution_count": 18,
   "metadata": {},
   "outputs": [],
   "source": [
    "text_list = []\n",
    "for i in range(len(strings)):\n",
    "    temp = strings[i].split(\"\\t\")\n",
    "    text_list.append(temp[1])"
   ]
  },
  {
   "cell_type": "code",
   "execution_count": 19,
   "metadata": {},
   "outputs": [],
   "source": [
    "words_test = []\n",
    "for i in range(len(text_list)):\n",
    "    words_test.append(re.split(u'[^а-я]', text_list[i]))"
   ]
  },
  {
   "cell_type": "code",
   "execution_count": 20,
   "metadata": {},
   "outputs": [],
   "source": [
    "found = True\n",
    "while(found):\n",
    "    c = 0\n",
    "    found = False\n",
    "    for i in words_test:\n",
    "        for j in i:\n",
    "            if(j == ''):\n",
    "                found = True\n",
    "                words_test[c].remove('')\n",
    "        c = c + 1"
   ]
  },
  {
   "cell_type": "code",
   "execution_count": 23,
   "metadata": {},
   "outputs": [],
   "source": [
    "file_write = open('news_output.txt', 'w')\n",
    "c = 0\n",
    "for i in words_test:\n",
    "    temp = np.zeros(10)\n",
    "    check = False\n",
    "    for j in i:\n",
    "        if(j in words_dict):\n",
    "            temp = temp + words_dict[j]\n",
    "    for type_art, index in type_dict.items():\n",
    "        if (index == np.argmax(temp)):\n",
    "            file_write.write(type_art+'\\n')\n",
    "            check = True\n",
    "    if(not check):\n",
    "        file_write.write(\"forces\\n\")\n",
    "    c += 1\n",
    "file_write.close()"
   ]
  }
 ],
 "metadata": {
  "kernelspec": {
   "display_name": "Python 2",
   "language": "python",
   "name": "python2"
  },
  "language_info": {
   "codemirror_mode": {
    "name": "ipython",
    "version": 2
   },
   "file_extension": ".py",
   "mimetype": "text/x-python",
   "name": "python",
   "nbconvert_exporter": "python",
   "pygments_lexer": "ipython2",
   "version": "2.7.15"
  }
 },
 "nbformat": 4,
 "nbformat_minor": 2
}
